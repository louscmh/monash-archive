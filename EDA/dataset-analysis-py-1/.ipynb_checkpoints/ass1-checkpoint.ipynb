{
 "cells": [
  {
   "cell_type": "code",
   "execution_count": 1,
   "id": "494f772d",
   "metadata": {},
   "outputs": [],
   "source": [
    "import pandas as pd"
   ]
  },
  {
   "cell_type": "markdown",
   "id": "40d368e6",
   "metadata": {},
   "source": [
    "# Task A"
   ]
  },
  {
   "cell_type": "code",
   "execution_count": 3,
   "id": "84c86c17",
   "metadata": {},
   "outputs": [],
   "source": [
    "msr = pd.read_csv(\"monthly_smartcard_replacements.csv\")"
   ]
  },
  {
   "cell_type": "code",
   "execution_count": 4,
   "id": "0241c11b",
   "metadata": {},
   "outputs": [
    {
     "data": {
      "text/html": [
       "<div>\n",
       "<style scoped>\n",
       "    .dataframe tbody tr th:only-of-type {\n",
       "        vertical-align: middle;\n",
       "    }\n",
       "\n",
       "    .dataframe tbody tr th {\n",
       "        vertical-align: top;\n",
       "    }\n",
       "\n",
       "    .dataframe thead th {\n",
       "        text-align: right;\n",
       "    }\n",
       "</style>\n",
       "<table border=\"1\" class=\"dataframe\">\n",
       "  <thead>\n",
       "    <tr style=\"text-align: right;\">\n",
       "      <th></th>\n",
       "      <th>Month</th>\n",
       "      <th>Transaction</th>\n",
       "      <th>Smartcard.Type</th>\n",
       "      <th>Action.Reason</th>\n",
       "      <th>Number.of.transactions</th>\n",
       "    </tr>\n",
       "  </thead>\n",
       "  <tbody>\n",
       "    <tr>\n",
       "      <th>0</th>\n",
       "      <td>2019-03</td>\n",
       "      <td>Replace Smartcard</td>\n",
       "      <td>Photo Identification Card</td>\n",
       "      <td>Change Customer Details</td>\n",
       "      <td>156</td>\n",
       "    </tr>\n",
       "    <tr>\n",
       "      <th>1</th>\n",
       "      <td>2019-03</td>\n",
       "      <td>Replace Smartcard</td>\n",
       "      <td>Driver Licence Card</td>\n",
       "      <td>Destroyed</td>\n",
       "      <td>110</td>\n",
       "    </tr>\n",
       "    <tr>\n",
       "      <th>2</th>\n",
       "      <td>2019-03</td>\n",
       "      <td>Replace Smartcard</td>\n",
       "      <td>Industry Authority Card</td>\n",
       "      <td>Lost In Mail - Imu</td>\n",
       "      <td>48</td>\n",
       "    </tr>\n",
       "    <tr>\n",
       "      <th>3</th>\n",
       "      <td>2019-03</td>\n",
       "      <td>Replace Smartcard</td>\n",
       "      <td>Marine Licence Ind Card</td>\n",
       "      <td>Managers Approval</td>\n",
       "      <td>8</td>\n",
       "    </tr>\n",
       "    <tr>\n",
       "      <th>4</th>\n",
       "      <td>2019-03</td>\n",
       "      <td>Replace Smartcard</td>\n",
       "      <td>Marine Licence Ind Card</td>\n",
       "      <td>Lost In Mail - Imu</td>\n",
       "      <td>7</td>\n",
       "    </tr>\n",
       "    <tr>\n",
       "      <th>...</th>\n",
       "      <td>...</td>\n",
       "      <td>...</td>\n",
       "      <td>...</td>\n",
       "      <td>...</td>\n",
       "      <td>...</td>\n",
       "    </tr>\n",
       "    <tr>\n",
       "      <th>5787</th>\n",
       "      <td>2020-11</td>\n",
       "      <td>Replace Smartcard</td>\n",
       "      <td>Photo Identification Card</td>\n",
       "      <td>Remove Gender From Smartcard</td>\n",
       "      <td>1</td>\n",
       "    </tr>\n",
       "    <tr>\n",
       "      <th>5788</th>\n",
       "      <td>2020-12</td>\n",
       "      <td>Replace Smartcard</td>\n",
       "      <td>Marine Licence Ind Card</td>\n",
       "      <td>Stolen</td>\n",
       "      <td>1</td>\n",
       "    </tr>\n",
       "    <tr>\n",
       "      <th>5789</th>\n",
       "      <td>2021-07</td>\n",
       "      <td>Replace Smartcard</td>\n",
       "      <td>Marine Licence Ind Card</td>\n",
       "      <td>Stolen</td>\n",
       "      <td>1</td>\n",
       "    </tr>\n",
       "    <tr>\n",
       "      <th>5790</th>\n",
       "      <td>2021-07</td>\n",
       "      <td>Replace Smartcard</td>\n",
       "      <td>Photo Identification Card</td>\n",
       "      <td>Merged</td>\n",
       "      <td>1</td>\n",
       "    </tr>\n",
       "    <tr>\n",
       "      <th>5791</th>\n",
       "      <td>2021-12</td>\n",
       "      <td>Replace Smartcard</td>\n",
       "      <td>Driver Licence Card</td>\n",
       "      <td>Transition Laminate To Smartcard</td>\n",
       "      <td>2</td>\n",
       "    </tr>\n",
       "  </tbody>\n",
       "</table>\n",
       "<p>5792 rows × 5 columns</p>\n",
       "</div>"
      ],
      "text/plain": [
       "        Month        Transaction             Smartcard.Type  \\\n",
       "0     2019-03  Replace Smartcard  Photo Identification Card   \n",
       "1     2019-03  Replace Smartcard        Driver Licence Card   \n",
       "2     2019-03  Replace Smartcard    Industry Authority Card   \n",
       "3     2019-03  Replace Smartcard    Marine Licence Ind Card   \n",
       "4     2019-03  Replace Smartcard    Marine Licence Ind Card   \n",
       "...       ...                ...                        ...   \n",
       "5787  2020-11  Replace Smartcard  Photo Identification Card   \n",
       "5788  2020-12  Replace Smartcard    Marine Licence Ind Card   \n",
       "5789  2021-07  Replace Smartcard    Marine Licence Ind Card   \n",
       "5790  2021-07  Replace Smartcard  Photo Identification Card   \n",
       "5791  2021-12  Replace Smartcard        Driver Licence Card   \n",
       "\n",
       "                         Action.Reason  Number.of.transactions  \n",
       "0              Change Customer Details                     156  \n",
       "1                            Destroyed                     110  \n",
       "2                   Lost In Mail - Imu                      48  \n",
       "3                    Managers Approval                       8  \n",
       "4                   Lost In Mail - Imu                       7  \n",
       "...                                ...                     ...  \n",
       "5787      Remove Gender From Smartcard                       1  \n",
       "5788                            Stolen                       1  \n",
       "5789                            Stolen                       1  \n",
       "5790                            Merged                       1  \n",
       "5791  Transition Laminate To Smartcard                       2  \n",
       "\n",
       "[5792 rows x 5 columns]"
      ]
     },
     "execution_count": 4,
     "metadata": {},
     "output_type": "execute_result"
    }
   ],
   "source": [
    "msr"
   ]
  },
  {
   "cell_type": "markdown",
   "id": "5313452d",
   "metadata": {},
   "source": [
    "## A1.1"
   ]
  },
  {
   "cell_type": "code",
   "execution_count": 10,
   "id": "9a0c1483",
   "metadata": {
    "scrolled": true
   },
   "outputs": [
    {
     "data": {
      "text/plain": [
       "Smartcard.Type\n",
       "Driver Licence Card          1896\n",
       "Industry Authority Card      1218\n",
       "Marine Licence Ind Card      1047\n",
       "Photo Identification Card    1631\n",
       "Name: Number.of.transactions, dtype: int64"
      ]
     },
     "execution_count": 10,
     "metadata": {},
     "output_type": "execute_result"
    }
   ],
   "source": [
    "msr.groupby(\"Smartcard.Type\")[\"Number.of.transactions\"].count()"
   ]
  },
  {
   "cell_type": "markdown",
   "id": "8a61ff42",
   "metadata": {},
   "source": [
    "### Answer: There are 4 unique smartcard types, namely \"Driver License Card\", \"Industry Authority Card\", \"Marine Licence Ind Card\" and \"Photo Identification Card\". There are 1896, 1218, 1047 & 1631 instances of them recorded respectively."
   ]
  },
  {
   "cell_type": "markdown",
   "id": "183f7c22",
   "metadata": {},
   "source": [
    "## A1.2"
   ]
  },
  {
   "cell_type": "code",
   "execution_count": 15,
   "id": "2693204a",
   "metadata": {},
   "outputs": [],
   "source": [
    "import matplotlib.pyplot as plt"
   ]
  },
  {
   "cell_type": "code",
   "execution_count": 34,
   "id": "86e99349",
   "metadata": {},
   "outputs": [],
   "source": [
    "smartcard_count = msr.groupby(\"Smartcard.Type\")[\"Number.of.transactions\"].count()"
   ]
  },
  {
   "cell_type": "code",
   "execution_count": 35,
   "id": "14d60cd5",
   "metadata": {},
   "outputs": [
    {
     "data": {
      "text/plain": [
       "Smartcard.Type\n",
       "Driver Licence Card          1896\n",
       "Industry Authority Card      1218\n",
       "Marine Licence Ind Card      1047\n",
       "Photo Identification Card    1631\n",
       "Name: Number.of.transactions, dtype: int64"
      ]
     },
     "execution_count": 35,
     "metadata": {},
     "output_type": "execute_result"
    }
   ],
   "source": [
    "smartcard_count"
   ]
  },
  {
   "cell_type": "code",
   "execution_count": 41,
   "id": "aaead030",
   "metadata": {},
   "outputs": [
    {
     "data": {
      "text/plain": [
       "Text(0, 0.5, 'Total instances')"
      ]
     },
     "execution_count": 41,
     "metadata": {},
     "output_type": "execute_result"
    },
    {
     "data": {
      "image/png": "[encoded data removed]",
      "text/plain": [
       "<Figure size 800x500 with 1 Axes>"
      ]
     },
     "metadata": {},
     "output_type": "display_data"
    }
   ],
   "source": [
    "box = smartcard_count.plot.bar(figsize=(8,5))\n",
    "plt.xlabel(\"Smartcard Type\")\n",
    "plt.ylabel(\"Total instances\")"
   ]
  },
  {
   "cell_type": "markdown",
   "id": "dd54271e",
   "metadata": {},
   "source": [
    "### Answer: The \"Driver Licence Card\" is replaced the most among the 4 smartcard types."
   ]
  },
  {
   "cell_type": "markdown",
   "id": "029255d1",
   "metadata": {},
   "source": [
    "## A1.3"
   ]
  },
  {
   "cell_type": "code",
   "execution_count": 47,
   "id": "3f7b2927",
   "metadata": {},
   "outputs": [],
   "source": [
    "total_length = smartcard_count.sum()"
   ]
  },
  {
   "cell_type": "code",
   "execution_count": 48,
   "id": "0b7c9e0f",
   "metadata": {},
   "outputs": [
    {
     "data": {
      "text/plain": [
       "5792"
      ]
     },
     "execution_count": 48,
     "metadata": {},
     "output_type": "execute_result"
    }
   ],
   "source": [
    "total_length"
   ]
  },
  {
   "cell_type": "code",
   "execution_count": 49,
   "id": "ee10534d",
   "metadata": {},
   "outputs": [],
   "source": [
    "record_percentage = (smartcard_count/total_length)*100"
   ]
  },
  {
   "cell_type": "code",
   "execution_count": 50,
   "id": "895ca99f",
   "metadata": {},
   "outputs": [
    {
     "data": {
      "text/plain": [
       "Smartcard.Type\n",
       "Driver Licence Card          32.734807\n",
       "Industry Authority Card      21.029006\n",
       "Marine Licence Ind Card      18.076657\n",
       "Photo Identification Card    28.159530\n",
       "Name: Number.of.transactions, dtype: float64"
      ]
     },
     "execution_count": 50,
     "metadata": {},
     "output_type": "execute_result"
    }
   ],
   "source": [
    "record_percentage"
   ]
  },
  {
   "cell_type": "markdown",
   "id": "96466a0a",
   "metadata": {},
   "source": [
    "### Answer: Driver Licence Card, Industry Authority Card, Marine Licence Ind Card and Photo Identification Card contains 32.7%, 21.0%, 18.1%, 28.2% of the records respectively in this table."
   ]
  },
  {
   "cell_type": "markdown",
   "id": "8cc35254",
   "metadata": {},
   "source": [
    "## A2.1"
   ]
  },
  {
   "cell_type": "code",
   "execution_count": 51,
   "id": "97de5bb1",
   "metadata": {},
   "outputs": [
    {
     "data": {
      "text/html": [
       "<div>\n",
       "<style scoped>\n",
       "    .dataframe tbody tr th:only-of-type {\n",
       "        vertical-align: middle;\n",
       "    }\n",
       "\n",
       "    .dataframe tbody tr th {\n",
       "        vertical-align: top;\n",
       "    }\n",
       "\n",
       "    .dataframe thead th {\n",
       "        text-align: right;\n",
       "    }\n",
       "</style>\n",
       "<table border=\"1\" class=\"dataframe\">\n",
       "  <thead>\n",
       "    <tr style=\"text-align: right;\">\n",
       "      <th></th>\n",
       "      <th>Month</th>\n",
       "      <th>Transaction</th>\n",
       "      <th>Smartcard.Type</th>\n",
       "      <th>Action.Reason</th>\n",
       "      <th>Number.of.transactions</th>\n",
       "    </tr>\n",
       "  </thead>\n",
       "  <tbody>\n",
       "    <tr>\n",
       "      <th>0</th>\n",
       "      <td>2019-03</td>\n",
       "      <td>Replace Smartcard</td>\n",
       "      <td>Photo Identification Card</td>\n",
       "      <td>Change Customer Details</td>\n",
       "      <td>156</td>\n",
       "    </tr>\n",
       "    <tr>\n",
       "      <th>1</th>\n",
       "      <td>2019-03</td>\n",
       "      <td>Replace Smartcard</td>\n",
       "      <td>Driver Licence Card</td>\n",
       "      <td>Destroyed</td>\n",
       "      <td>110</td>\n",
       "    </tr>\n",
       "    <tr>\n",
       "      <th>2</th>\n",
       "      <td>2019-03</td>\n",
       "      <td>Replace Smartcard</td>\n",
       "      <td>Industry Authority Card</td>\n",
       "      <td>Lost In Mail - Imu</td>\n",
       "      <td>48</td>\n",
       "    </tr>\n",
       "    <tr>\n",
       "      <th>3</th>\n",
       "      <td>2019-03</td>\n",
       "      <td>Replace Smartcard</td>\n",
       "      <td>Marine Licence Ind Card</td>\n",
       "      <td>Managers Approval</td>\n",
       "      <td>8</td>\n",
       "    </tr>\n",
       "    <tr>\n",
       "      <th>4</th>\n",
       "      <td>2019-03</td>\n",
       "      <td>Replace Smartcard</td>\n",
       "      <td>Marine Licence Ind Card</td>\n",
       "      <td>Lost In Mail - Imu</td>\n",
       "      <td>7</td>\n",
       "    </tr>\n",
       "    <tr>\n",
       "      <th>...</th>\n",
       "      <td>...</td>\n",
       "      <td>...</td>\n",
       "      <td>...</td>\n",
       "      <td>...</td>\n",
       "      <td>...</td>\n",
       "    </tr>\n",
       "    <tr>\n",
       "      <th>5787</th>\n",
       "      <td>2020-11</td>\n",
       "      <td>Replace Smartcard</td>\n",
       "      <td>Photo Identification Card</td>\n",
       "      <td>Remove Gender From Smartcard</td>\n",
       "      <td>1</td>\n",
       "    </tr>\n",
       "    <tr>\n",
       "      <th>5788</th>\n",
       "      <td>2020-12</td>\n",
       "      <td>Replace Smartcard</td>\n",
       "      <td>Marine Licence Ind Card</td>\n",
       "      <td>Stolen</td>\n",
       "      <td>1</td>\n",
       "    </tr>\n",
       "    <tr>\n",
       "      <th>5789</th>\n",
       "      <td>2021-07</td>\n",
       "      <td>Replace Smartcard</td>\n",
       "      <td>Marine Licence Ind Card</td>\n",
       "      <td>Stolen</td>\n",
       "      <td>1</td>\n",
       "    </tr>\n",
       "    <tr>\n",
       "      <th>5790</th>\n",
       "      <td>2021-07</td>\n",
       "      <td>Replace Smartcard</td>\n",
       "      <td>Photo Identification Card</td>\n",
       "      <td>Merged</td>\n",
       "      <td>1</td>\n",
       "    </tr>\n",
       "    <tr>\n",
       "      <th>5791</th>\n",
       "      <td>2021-12</td>\n",
       "      <td>Replace Smartcard</td>\n",
       "      <td>Driver Licence Card</td>\n",
       "      <td>Transition Laminate To Smartcard</td>\n",
       "      <td>2</td>\n",
       "    </tr>\n",
       "  </tbody>\n",
       "</table>\n",
       "<p>5792 rows × 5 columns</p>\n",
       "</div>"
      ],
      "text/plain": [
       "        Month        Transaction             Smartcard.Type  \\\n",
       "0     2019-03  Replace Smartcard  Photo Identification Card   \n",
       "1     2019-03  Replace Smartcard        Driver Licence Card   \n",
       "2     2019-03  Replace Smartcard    Industry Authority Card   \n",
       "3     2019-03  Replace Smartcard    Marine Licence Ind Card   \n",
       "4     2019-03  Replace Smartcard    Marine Licence Ind Card   \n",
       "...       ...                ...                        ...   \n",
       "5787  2020-11  Replace Smartcard  Photo Identification Card   \n",
       "5788  2020-12  Replace Smartcard    Marine Licence Ind Card   \n",
       "5789  2021-07  Replace Smartcard    Marine Licence Ind Card   \n",
       "5790  2021-07  Replace Smartcard  Photo Identification Card   \n",
       "5791  2021-12  Replace Smartcard        Driver Licence Card   \n",
       "\n",
       "                         Action.Reason  Number.of.transactions  \n",
       "0              Change Customer Details                     156  \n",
       "1                            Destroyed                     110  \n",
       "2                   Lost In Mail - Imu                      48  \n",
       "3                    Managers Approval                       8  \n",
       "4                   Lost In Mail - Imu                       7  \n",
       "...                                ...                     ...  \n",
       "5787      Remove Gender From Smartcard                       1  \n",
       "5788                            Stolen                       1  \n",
       "5789                            Stolen                       1  \n",
       "5790                            Merged                       1  \n",
       "5791  Transition Laminate To Smartcard                       2  \n",
       "\n",
       "[5792 rows x 5 columns]"
      ]
     },
     "execution_count": 51,
     "metadata": {},
     "output_type": "execute_result"
    }
   ],
   "source": [
    "msr"
   ]
  },
  {
   "cell_type": "code",
   "execution_count": 59,
   "id": "f55cb5bc",
   "metadata": {},
   "outputs": [
    {
     "name": "stdout",
     "output_type": "stream",
     "text": [
      "object\n"
     ]
    }
   ],
   "source": [
    "print(msr.Month.dtypes)"
   ]
  },
  {
   "cell_type": "code",
   "execution_count": 60,
   "id": "d8252969",
   "metadata": {},
   "outputs": [],
   "source": [
    "msr.Month = pd.to_datetime(msr.Month)"
   ]
  },
  {
   "cell_type": "code",
   "execution_count": 62,
   "id": "33a4e3de",
   "metadata": {},
   "outputs": [
    {
     "name": "stdout",
     "output_type": "stream",
     "text": [
      "datetime64[ns]\n"
     ]
    }
   ],
   "source": [
    "print(msr.Month.dtypes)"
   ]
  },
  {
   "cell_type": "code",
   "execution_count": 63,
   "id": "51de0e1e",
   "metadata": {},
   "outputs": [
    {
     "data": {
      "text/html": [
       "<div>\n",
       "<style scoped>\n",
       "    .dataframe tbody tr th:only-of-type {\n",
       "        vertical-align: middle;\n",
       "    }\n",
       "\n",
       "    .dataframe tbody tr th {\n",
       "        vertical-align: top;\n",
       "    }\n",
       "\n",
       "    .dataframe thead th {\n",
       "        text-align: right;\n",
       "    }\n",
       "</style>\n",
       "<table border=\"1\" class=\"dataframe\">\n",
       "  <thead>\n",
       "    <tr style=\"text-align: right;\">\n",
       "      <th></th>\n",
       "      <th>Month</th>\n",
       "      <th>Transaction</th>\n",
       "      <th>Smartcard.Type</th>\n",
       "      <th>Action.Reason</th>\n",
       "      <th>Number.of.transactions</th>\n",
       "    </tr>\n",
       "  </thead>\n",
       "  <tbody>\n",
       "    <tr>\n",
       "      <th>0</th>\n",
       "      <td>2019-03-01</td>\n",
       "      <td>Replace Smartcard</td>\n",
       "      <td>Photo Identification Card</td>\n",
       "      <td>Change Customer Details</td>\n",
       "      <td>156</td>\n",
       "    </tr>\n",
       "    <tr>\n",
       "      <th>1</th>\n",
       "      <td>2019-03-01</td>\n",
       "      <td>Replace Smartcard</td>\n",
       "      <td>Driver Licence Card</td>\n",
       "      <td>Destroyed</td>\n",
       "      <td>110</td>\n",
       "    </tr>\n",
       "    <tr>\n",
       "      <th>2</th>\n",
       "      <td>2019-03-01</td>\n",
       "      <td>Replace Smartcard</td>\n",
       "      <td>Industry Authority Card</td>\n",
       "      <td>Lost In Mail - Imu</td>\n",
       "      <td>48</td>\n",
       "    </tr>\n",
       "    <tr>\n",
       "      <th>3</th>\n",
       "      <td>2019-03-01</td>\n",
       "      <td>Replace Smartcard</td>\n",
       "      <td>Marine Licence Ind Card</td>\n",
       "      <td>Managers Approval</td>\n",
       "      <td>8</td>\n",
       "    </tr>\n",
       "    <tr>\n",
       "      <th>4</th>\n",
       "      <td>2019-03-01</td>\n",
       "      <td>Replace Smartcard</td>\n",
       "      <td>Marine Licence Ind Card</td>\n",
       "      <td>Lost In Mail - Imu</td>\n",
       "      <td>7</td>\n",
       "    </tr>\n",
       "    <tr>\n",
       "      <th>...</th>\n",
       "      <td>...</td>\n",
       "      <td>...</td>\n",
       "      <td>...</td>\n",
       "      <td>...</td>\n",
       "      <td>...</td>\n",
       "    </tr>\n",
       "    <tr>\n",
       "      <th>5787</th>\n",
       "      <td>2020-11-01</td>\n",
       "      <td>Replace Smartcard</td>\n",
       "      <td>Photo Identification Card</td>\n",
       "      <td>Remove Gender From Smartcard</td>\n",
       "      <td>1</td>\n",
       "    </tr>\n",
       "    <tr>\n",
       "      <th>5788</th>\n",
       "      <td>2020-12-01</td>\n",
       "      <td>Replace Smartcard</td>\n",
       "      <td>Marine Licence Ind Card</td>\n",
       "      <td>Stolen</td>\n",
       "      <td>1</td>\n",
       "    </tr>\n",
       "    <tr>\n",
       "      <th>5789</th>\n",
       "      <td>2021-07-01</td>\n",
       "      <td>Replace Smartcard</td>\n",
       "      <td>Marine Licence Ind Card</td>\n",
       "      <td>Stolen</td>\n",
       "      <td>1</td>\n",
       "    </tr>\n",
       "    <tr>\n",
       "      <th>5790</th>\n",
       "      <td>2021-07-01</td>\n",
       "      <td>Replace Smartcard</td>\n",
       "      <td>Photo Identification Card</td>\n",
       "      <td>Merged</td>\n",
       "      <td>1</td>\n",
       "    </tr>\n",
       "    <tr>\n",
       "      <th>5791</th>\n",
       "      <td>2021-12-01</td>\n",
       "      <td>Replace Smartcard</td>\n",
       "      <td>Driver Licence Card</td>\n",
       "      <td>Transition Laminate To Smartcard</td>\n",
       "      <td>2</td>\n",
       "    </tr>\n",
       "  </tbody>\n",
       "</table>\n",
       "<p>5792 rows × 5 columns</p>\n",
       "</div>"
      ],
      "text/plain": [
       "          Month        Transaction             Smartcard.Type  \\\n",
       "0    2019-03-01  Replace Smartcard  Photo Identification Card   \n",
       "1    2019-03-01  Replace Smartcard        Driver Licence Card   \n",
       "2    2019-03-01  Replace Smartcard    Industry Authority Card   \n",
       "3    2019-03-01  Replace Smartcard    Marine Licence Ind Card   \n",
       "4    2019-03-01  Replace Smartcard    Marine Licence Ind Card   \n",
       "...         ...                ...                        ...   \n",
       "5787 2020-11-01  Replace Smartcard  Photo Identification Card   \n",
       "5788 2020-12-01  Replace Smartcard    Marine Licence Ind Card   \n",
       "5789 2021-07-01  Replace Smartcard    Marine Licence Ind Card   \n",
       "5790 2021-07-01  Replace Smartcard  Photo Identification Card   \n",
       "5791 2021-12-01  Replace Smartcard        Driver Licence Card   \n",
       "\n",
       "                         Action.Reason  Number.of.transactions  \n",
       "0              Change Customer Details                     156  \n",
       "1                            Destroyed                     110  \n",
       "2                   Lost In Mail - Imu                      48  \n",
       "3                    Managers Approval                       8  \n",
       "4                   Lost In Mail - Imu                       7  \n",
       "...                                ...                     ...  \n",
       "5787      Remove Gender From Smartcard                       1  \n",
       "5788                            Stolen                       1  \n",
       "5789                            Stolen                       1  \n",
       "5790                            Merged                       1  \n",
       "5791  Transition Laminate To Smartcard                       2  \n",
       "\n",
       "[5792 rows x 5 columns]"
      ]
     },
     "execution_count": 63,
     "metadata": {},
     "output_type": "execute_result"
    }
   ],
   "source": [
    "msr"
   ]
  },
  {
   "cell_type": "markdown",
   "id": "ac92b355",
   "metadata": {},
   "source": [
    "### Answer: msr.Month = pd.to_datetime(msr.Month) was used to convert the object into a datetime format"
   ]
  },
  {
   "cell_type": "markdown",
   "id": "1968d1b7",
   "metadata": {},
   "source": [
    "## A2.2"
   ]
  },
  {
   "cell_type": "code",
   "execution_count": 70,
   "id": "47c152b7",
   "metadata": {},
   "outputs": [],
   "source": [
    "reason_count = msr.groupby(\"Action.Reason\")[\"Number.of.transactions\"].count()"
   ]
  },
  {
   "cell_type": "code",
   "execution_count": 71,
   "id": "77a523f2",
   "metadata": {},
   "outputs": [
    {
     "data": {
      "text/plain": [
       "Action.Reason\n",
       "Change Customer Details                    521\n",
       "Condition Change                           364\n",
       "Court Order Issued X3 Or X4 Condition      137\n",
       "Da/dgd Smartcard Replacement Fee Exempt    134\n",
       "Damaged                                    342\n",
       "Defective                                   88\n",
       "Destroyed                                  379\n",
       "Disaster Relief                             48\n",
       "Expired                                    133\n",
       "Facial Image Is Not A True Likeness        304\n",
       "Faulty                                     344\n",
       "Lost                                       539\n",
       "Lost In Mail - Imu                         519\n",
       "Managers Approval                          532\n",
       "Marine Licence Transition                  132\n",
       "Merged                                     200\n",
       "Product Exists Othr Surrend Void Cancel    321\n",
       "Remove Gender From Smartcard                28\n",
       "Stolen                                     471\n",
       "Transition Laminate To Smartcard           256\n",
       "Name: Number.of.transactions, dtype: int64"
      ]
     },
     "execution_count": 71,
     "metadata": {},
     "output_type": "execute_result"
    }
   ],
   "source": [
    "reason_count"
   ]
  },
  {
   "cell_type": "markdown",
   "id": "3b5acc3c",
   "metadata": {},
   "source": [
    "### Answer: There are 20 different reasons for smartcard replacements, and the number of instances are recorded as of above."
   ]
  },
  {
   "cell_type": "markdown",
   "id": "f6257f95",
   "metadata": {},
   "source": [
    "## A2.3"
   ]
  },
  {
   "cell_type": "code",
   "execution_count": 81,
   "id": "e9997eb4",
   "metadata": {
    "scrolled": false
   },
   "outputs": [
    {
     "data": {
      "text/plain": [
       "56"
      ]
     },
     "execution_count": 81,
     "metadata": {},
     "output_type": "execute_result"
    }
   ],
   "source": [
    "filter = (msr[\"Action.Reason\"] == \"Faulty\") & (msr[\"Number.of.transactions\"] >= 100)\n",
    "filtered_result = msr[filter]\n",
    "filtered_result[\"Month\"].nunique()"
   ]
  },
  {
   "cell_type": "markdown",
   "id": "81ef94aa",
   "metadata": {},
   "source": [
    "### Answer: There were 56 months in which 100 or more smartcard replacements are reported due to being \"Faulty\"."
   ]
  },
  {
   "cell_type": "markdown",
   "id": "a084007f",
   "metadata": {},
   "source": [
    "## A3.1"
   ]
  },
  {
   "cell_type": "code",
   "execution_count": 82,
   "id": "04567fdc",
   "metadata": {},
   "outputs": [],
   "source": [
    "msr[\"Year\"] = msr[\"Month\"].dt.year"
   ]
  },
  {
   "cell_type": "code",
   "execution_count": 84,
   "id": "7ffa40e1",
   "metadata": {},
   "outputs": [
    {
     "data": {
      "text/html": [
       "<div>\n",
       "<style scoped>\n",
       "    .dataframe tbody tr th:only-of-type {\n",
       "        vertical-align: middle;\n",
       "    }\n",
       "\n",
       "    .dataframe tbody tr th {\n",
       "        vertical-align: top;\n",
       "    }\n",
       "\n",
       "    .dataframe thead th {\n",
       "        text-align: right;\n",
       "    }\n",
       "</style>\n",
       "<table border=\"1\" class=\"dataframe\">\n",
       "  <thead>\n",
       "    <tr style=\"text-align: right;\">\n",
       "      <th></th>\n",
       "      <th>Month</th>\n",
       "      <th>Transaction</th>\n",
       "      <th>Smartcard.Type</th>\n",
       "      <th>Action.Reason</th>\n",
       "      <th>Number.of.transactions</th>\n",
       "      <th>Year</th>\n",
       "    </tr>\n",
       "  </thead>\n",
       "  <tbody>\n",
       "    <tr>\n",
       "      <th>0</th>\n",
       "      <td>2019-03-01</td>\n",
       "      <td>Replace Smartcard</td>\n",
       "      <td>Photo Identification Card</td>\n",
       "      <td>Change Customer Details</td>\n",
       "      <td>156</td>\n",
       "      <td>2019</td>\n",
       "    </tr>\n",
       "    <tr>\n",
       "      <th>1</th>\n",
       "      <td>2019-03-01</td>\n",
       "      <td>Replace Smartcard</td>\n",
       "      <td>Driver Licence Card</td>\n",
       "      <td>Destroyed</td>\n",
       "      <td>110</td>\n",
       "      <td>2019</td>\n",
       "    </tr>\n",
       "    <tr>\n",
       "      <th>2</th>\n",
       "      <td>2019-03-01</td>\n",
       "      <td>Replace Smartcard</td>\n",
       "      <td>Industry Authority Card</td>\n",
       "      <td>Lost In Mail - Imu</td>\n",
       "      <td>48</td>\n",
       "      <td>2019</td>\n",
       "    </tr>\n",
       "    <tr>\n",
       "      <th>3</th>\n",
       "      <td>2019-03-01</td>\n",
       "      <td>Replace Smartcard</td>\n",
       "      <td>Marine Licence Ind Card</td>\n",
       "      <td>Managers Approval</td>\n",
       "      <td>8</td>\n",
       "      <td>2019</td>\n",
       "    </tr>\n",
       "    <tr>\n",
       "      <th>4</th>\n",
       "      <td>2019-03-01</td>\n",
       "      <td>Replace Smartcard</td>\n",
       "      <td>Marine Licence Ind Card</td>\n",
       "      <td>Lost In Mail - Imu</td>\n",
       "      <td>7</td>\n",
       "      <td>2019</td>\n",
       "    </tr>\n",
       "  </tbody>\n",
       "</table>\n",
       "</div>"
      ],
      "text/plain": [
       "       Month        Transaction             Smartcard.Type  \\\n",
       "0 2019-03-01  Replace Smartcard  Photo Identification Card   \n",
       "1 2019-03-01  Replace Smartcard        Driver Licence Card   \n",
       "2 2019-03-01  Replace Smartcard    Industry Authority Card   \n",
       "3 2019-03-01  Replace Smartcard    Marine Licence Ind Card   \n",
       "4 2019-03-01  Replace Smartcard    Marine Licence Ind Card   \n",
       "\n",
       "             Action.Reason  Number.of.transactions  Year  \n",
       "0  Change Customer Details                     156  2019  \n",
       "1                Destroyed                     110  2019  \n",
       "2       Lost In Mail - Imu                      48  2019  \n",
       "3        Managers Approval                       8  2019  \n",
       "4       Lost In Mail - Imu                       7  2019  "
      ]
     },
     "execution_count": 84,
     "metadata": {},
     "output_type": "execute_result"
    }
   ],
   "source": [
    "msr.head()"
   ]
  },
  {
   "cell_type": "markdown",
   "id": "c7e1b16f",
   "metadata": {},
   "source": [
    "### Answer: msr[\"Year\"] = msr[\"Month\"].dt.year was used."
   ]
  },
  {
   "cell_type": "markdown",
   "id": "5ac90326",
   "metadata": {},
   "source": [
    "## A3.2"
   ]
  },
  {
   "cell_type": "code",
   "execution_count": 94,
   "id": "261f3df8",
   "metadata": {},
   "outputs": [
    {
     "data": {
      "text/plain": [
       "Year\n",
       "2010       671\n",
       "2011     68418\n",
       "2012    150886\n",
       "2013    145192\n",
       "2014    144549\n",
       "2015    151109\n",
       "2016    159427\n",
       "2017    165726\n",
       "2018    169477\n",
       "2019    178395\n",
       "2020    171206\n",
       "2021    202671\n",
       "2022     48648\n",
       "Name: Number.of.transactions, dtype: int64"
      ]
     },
     "execution_count": 94,
     "metadata": {},
     "output_type": "execute_result"
    }
   ],
   "source": [
    "annual_replacements = msr.groupby(\"Year\")[\"Number.of.transactions\"].sum()\n",
    "annual_replacements"
   ]
  },
  {
   "cell_type": "code",
   "execution_count": 100,
   "id": "0db2b46b",
   "metadata": {},
   "outputs": [
    {
     "data": {
      "text/plain": [
       "Text(0.5, 1.0, 'Annual Smartcard Replacements')"
      ]
     },
     "execution_count": 100,
     "metadata": {},
     "output_type": "execute_result"
    },
    {
     "data": {
      "image/png": "[encoded data removed]",
      "text/plain": [
       "<Figure size 640x480 with 1 Axes>"
      ]
     },
     "metadata": {},
     "output_type": "display_data"
    }
   ],
   "source": [
    "annual_replacements.plot(marker=\"x\")\n",
    "plt.xlabel(\"Year\")\n",
    "plt.ylabel(\"Number of transactions\")\n",
    "plt.title(\"Annual Smartcard Replacements\")"
   ]
  },
  {
   "cell_type": "markdown",
   "id": "5c331f5f",
   "metadata": {},
   "source": [
    "## A3.3"
   ]
  },
  {
   "cell_type": "markdown",
   "id": "38f55729",
   "metadata": {},
   "source": [
    "### Answer: Observing the graph, the trend for smartcard replacements is that it gradually increases per year. However, there are outliers in the form of 2010, 2011 and 2022 in where their annual smartcard replacements are abnormally lower than the other data values, and 2021 has a higher value than everything else. I believe that 2010, 2011 & 2022 are abnormally lower than the other values as either individuals are more careful in taking care of their smartcards or there is not enough data collected throughout the year to be compared with the other values. 2021 being abnormally high might make sense as it could have correlations to the covid pandemic, where people need their smartcards replaced for important use."
   ]
  },
  {
   "cell_type": "markdown",
   "id": "7cc06621",
   "metadata": {},
   "source": [
    "## A4.1"
   ]
  },
  {
   "cell_type": "code",
   "execution_count": 103,
   "id": "a6498f3d",
   "metadata": {},
   "outputs": [
    {
     "data": {
      "text/plain": [
       "Action.Reason\n",
       "Change Customer Details                    294435\n",
       "Condition Change                           344905\n",
       "Court Order Issued X3 Or X4 Condition       17295\n",
       "Da/dgd Smartcard Replacement Fee Exempt      8012\n",
       "Damaged                                     13027\n",
       "Defective                                     673\n",
       "Destroyed                                   14393\n",
       "Disaster Relief                               313\n",
       "Expired                                      2028\n",
       "Facial Image Is Not A True Likeness          4272\n",
       "Faulty                                      14876\n",
       "Lost                                       642749\n",
       "Lost In Mail - Imu                         172552\n",
       "Managers Approval                           52555\n",
       "Marine Licence Transition                    1822\n",
       "Merged                                        507\n",
       "Product Exists Othr Surrend Void Cancel      5628\n",
       "Remove Gender From Smartcard                   47\n",
       "Stolen                                     158356\n",
       "Transition Laminate To Smartcard             7930\n",
       "Name: Number.of.transactions, dtype: int64"
      ]
     },
     "execution_count": 103,
     "metadata": {},
     "output_type": "execute_result"
    }
   ],
   "source": [
    "reason_sum = msr.groupby(\"Action.Reason\")[\"Number.of.transactions\"].sum()\n",
    "reason_sum"
   ]
  },
  {
   "cell_type": "code",
   "execution_count": 104,
   "id": "31666866",
   "metadata": {},
   "outputs": [
    {
     "data": {
      "text/plain": [
       "Text(0, 0.5, 'Transactions')"
      ]
     },
     "execution_count": 104,
     "metadata": {},
     "output_type": "execute_result"
    },
    {
     "data": {
      "image/png": "[encoded data removed]",
      "text/plain": [
       "<Figure size 800x500 with 1 Axes>"
      ]
     },
     "metadata": {},
     "output_type": "display_data"
    }
   ],
   "source": [
    "reason_sum.plot.bar(figsize=(8,5))\n",
    "plt.xlabel(\"Reason Type\")\n",
    "plt.ylabel(\"Transactions\")"
   ]
  },
  {
   "cell_type": "markdown",
   "id": "6797ab6c",
   "metadata": {},
   "source": [
    "## 4.2"
   ]
  },
  {
   "cell_type": "markdown",
   "id": "8da42aa0",
   "metadata": {},
   "source": [
    "### Answer: The top 3 reasons for smartcard replacements are \"Lost\" , \"Condition Change\" and \"Change Customer Details\" in descending order."
   ]
  },
  {
   "cell_type": "markdown",
   "id": "63644df8",
   "metadata": {},
   "source": [
    "## 4.3"
   ]
  },
  {
   "cell_type": "code",
   "execution_count": 117,
   "id": "a32b31fa",
   "metadata": {},
   "outputs": [],
   "source": [
    "filtered_sum = reason_sum[(reason_sum >= 1000) & (reason_sum <= 2000)]"
   ]
  },
  {
   "cell_type": "code",
   "execution_count": 118,
   "id": "4fd078c5",
   "metadata": {},
   "outputs": [
    {
     "data": {
      "text/plain": [
       "Action.Reason\n",
       "Marine Licence Transition    1822\n",
       "Name: Number.of.transactions, dtype: int64"
      ]
     },
     "execution_count": 118,
     "metadata": {},
     "output_type": "execute_result"
    }
   ],
   "source": [
    "filtered_sum"
   ]
  },
  {
   "cell_type": "markdown",
   "id": "4832163b",
   "metadata": {},
   "source": [
    "### Answer: 1822"
   ]
  },
  {
   "cell_type": "markdown",
   "id": "f35eb736",
   "metadata": {},
   "source": [
    "## 5.1"
   ]
  },
  {
   "cell_type": "code",
   "execution_count": 165,
   "id": "bb07355e",
   "metadata": {},
   "outputs": [
    {
     "data": {
      "text/html": [
       "<div>\n",
       "<style scoped>\n",
       "    .dataframe tbody tr th:only-of-type {\n",
       "        vertical-align: middle;\n",
       "    }\n",
       "\n",
       "    .dataframe tbody tr th {\n",
       "        vertical-align: top;\n",
       "    }\n",
       "\n",
       "    .dataframe thead th {\n",
       "        text-align: right;\n",
       "    }\n",
       "</style>\n",
       "<table border=\"1\" class=\"dataframe\">\n",
       "  <thead>\n",
       "    <tr style=\"text-align: right;\">\n",
       "      <th></th>\n",
       "      <th></th>\n",
       "      <th>Number.of.transactions</th>\n",
       "    </tr>\n",
       "    <tr>\n",
       "      <th>Action.Reason</th>\n",
       "      <th>Year</th>\n",
       "      <th></th>\n",
       "    </tr>\n",
       "  </thead>\n",
       "  <tbody>\n",
       "    <tr>\n",
       "      <th rowspan=\"5\" valign=\"top\">Change Customer Details</th>\n",
       "      <th>2010</th>\n",
       "      <td>84</td>\n",
       "    </tr>\n",
       "    <tr>\n",
       "      <th>2011</th>\n",
       "      <td>12265</td>\n",
       "    </tr>\n",
       "    <tr>\n",
       "      <th>2012</th>\n",
       "      <td>28446</td>\n",
       "    </tr>\n",
       "    <tr>\n",
       "      <th>2013</th>\n",
       "      <td>28603</td>\n",
       "    </tr>\n",
       "    <tr>\n",
       "      <th>2014</th>\n",
       "      <td>28188</td>\n",
       "    </tr>\n",
       "    <tr>\n",
       "      <th>...</th>\n",
       "      <th>...</th>\n",
       "      <td>...</td>\n",
       "    </tr>\n",
       "    <tr>\n",
       "      <th rowspan=\"5\" valign=\"top\">Transition Laminate To Smartcard</th>\n",
       "      <th>2018</th>\n",
       "      <td>410</td>\n",
       "    </tr>\n",
       "    <tr>\n",
       "      <th>2019</th>\n",
       "      <td>453</td>\n",
       "    </tr>\n",
       "    <tr>\n",
       "      <th>2020</th>\n",
       "      <td>576</td>\n",
       "    </tr>\n",
       "    <tr>\n",
       "      <th>2021</th>\n",
       "      <td>738</td>\n",
       "    </tr>\n",
       "    <tr>\n",
       "      <th>2022</th>\n",
       "      <td>156</td>\n",
       "    </tr>\n",
       "  </tbody>\n",
       "</table>\n",
       "<p>236 rows × 1 columns</p>\n",
       "</div>"
      ],
      "text/plain": [
       "                                       Number.of.transactions\n",
       "Action.Reason                    Year                        \n",
       "Change Customer Details          2010                      84\n",
       "                                 2011                   12265\n",
       "                                 2012                   28446\n",
       "                                 2013                   28603\n",
       "                                 2014                   28188\n",
       "...                                                       ...\n",
       "Transition Laminate To Smartcard 2018                     410\n",
       "                                 2019                     453\n",
       "                                 2020                     576\n",
       "                                 2021                     738\n",
       "                                 2022                     156\n",
       "\n",
       "[236 rows x 1 columns]"
      ]
     },
     "execution_count": 165,
     "metadata": {},
     "output_type": "execute_result"
    }
   ],
   "source": [
    "group = msr.groupby([\"Action.Reason\",\"Year\"]).agg({\"Number.of.transactions\":\"sum\"})\n",
    "group"
   ]
  },
  {
   "cell_type": "markdown",
   "id": "3188860b",
   "metadata": {},
   "source": [
    "## 5.2"
   ]
  },
  {
   "cell_type": "code",
   "execution_count": 186,
   "id": "22c75004",
   "metadata": {},
   "outputs": [],
   "source": [
    "group_count = group[group[\"Number.of.transactions\"] > 10000].reset_index()"
   ]
  },
  {
   "cell_type": "code",
   "execution_count": 188,
   "id": "d54fc292",
   "metadata": {},
   "outputs": [
    {
     "data": {
      "text/plain": [
       "Action.Reason\n",
       "Change Customer Details    11\n",
       "Condition Change           11\n",
       "Lost                       12\n",
       "Lost In Mail - Imu          8\n",
       "Stolen                     10\n",
       "Name: Year, dtype: int64"
      ]
     },
     "execution_count": 188,
     "metadata": {},
     "output_type": "execute_result"
    }
   ],
   "source": [
    "group_count.groupby(\"Action.Reason\")[\"Year\"].count()"
   ]
  },
  {
   "cell_type": "markdown",
   "id": "d8fbfd4f",
   "metadata": {},
   "source": [
    "### Answer: The following amount of years where the number of annual transactions exceeds 10000 for each reason has been displayed above."
   ]
  },
  {
   "cell_type": "markdown",
   "id": "be185351",
   "metadata": {},
   "source": [
    "## 5.3"
   ]
  },
  {
   "cell_type": "markdown",
   "id": "f59cdbc2",
   "metadata": {},
   "source": [
    "### Answer: \"Change Customer Details\", \"Condition Change\", \"Lost\", \"Lost In Mail - Imu\" and \"Stolen\" are the reasons where at least one year where the number of annual transactions exceeds 10000."
   ]
  },
  {
   "cell_type": "markdown",
   "id": "42db3994",
   "metadata": {},
   "source": [
    "# Task B"
   ]
  },
  {
   "cell_type": "markdown",
   "id": "dca445f3",
   "metadata": {},
   "source": [
    "### Student ID = 32937350"
   ]
  },
  {
   "cell_type": "code",
   "execution_count": 194,
   "id": "ef41c2f5",
   "metadata": {},
   "outputs": [],
   "source": [
    "import math\n",
    "Question_number = math.ceil((0+1)/2)"
   ]
  },
  {
   "cell_type": "code",
   "execution_count": 195,
   "id": "e149de67",
   "metadata": {},
   "outputs": [
    {
     "data": {
      "text/plain": [
       "1"
      ]
     },
     "execution_count": 195,
     "metadata": {},
     "output_type": "execute_result"
    }
   ],
   "source": [
    "Question_number"
   ]
  },
  {
   "cell_type": "markdown",
   "id": "8c7445e1",
   "metadata": {},
   "source": [
    "### Question to be explained: 1"
   ]
  }
 ],
 "metadata": {
  "kernelspec": {
   "display_name": "Python 3 (ipykernel)",
   "language": "python",
   "name": "python3"
  },
  "language_info": {
   "codemirror_mode": {
    "name": "ipython",
    "version": 3
   },
   "file_extension": ".py",
   "mimetype": "text/x-python",
   "name": "python",
   "nbconvert_exporter": "python",
   "pygments_lexer": "ipython3",
   "version": "3.11.3"
  }
 },
 "nbformat": 4,
 "nbformat_minor": 5
}
